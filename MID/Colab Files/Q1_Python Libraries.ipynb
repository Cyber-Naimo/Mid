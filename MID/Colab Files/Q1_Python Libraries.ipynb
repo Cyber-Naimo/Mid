{
  "nbformat": 4,
  "nbformat_minor": 0,
  "metadata": {
    "colab": {
      "provenance": []
    },
    "kernelspec": {
      "name": "python3",
      "display_name": "Python 3"
    },
    "language_info": {
      "name": "python"
    }
  },
  "cells": [
    {
      "cell_type": "code",
      "execution_count": null,
      "metadata": {
        "id": "ToN5yB6IfXfT"
      },
      "outputs": [],
      "source": [
        "import spacy\n",
        "nlp = spacy.load(\"en_core_web_sm\")\n",
        "#string= \"the purpose of our life is to happy\"\n",
        "#doc =nlp(string)\n",
        "#for token in doc:\n",
        "#print(token)     ---end1\n",
        "#print(token.text, end =' | ')   ---end2\n",
        "def generate_word_groups(text, n):\n",
        "    # Tokenize the input text\n",
        "    doc = nlp(text)\n",
        "    words = [token.text for token in doc]\n",
        "\n",
        "    # Generate word groups\n",
        "    word_groups = [tuple(words[i:i+n]) for i in range(len(words)-n+1)]\n",
        "\n",
        "    return word_groups\n",
        "\n",
        "# Example usage\n",
        "text = \"the purpose of our life is to happy\"\n",
        "word_groups = generate_word_groups(text, 2)\n",
        "print(word_groups)\n"
      ]
    },
    {
      "cell_type": "code",
      "source": [
        "\n",
        "\n",
        "\n",
        "\n",
        "\n",
        "\n",
        "\n",
        "\n",
        "\n",
        "\n",
        "\n",
        "\n",
        "from spacy import displacy\n",
        "doc = nlp('the purpose of our life is to happy')\n",
        "displacy.render(doc, style='dep',jupyter= True , options = {'distance ': 90} )"
      ],
      "metadata": {
        "id": "KA6fR4QQgboB"
      },
      "execution_count": null,
      "outputs": []
    },
    {
      "cell_type": "code",
      "source": [
        "\n",
        "\n",
        "\n",
        "\n",
        "\n",
        "\n",
        "\n",
        "\n",
        "import spacy\n",
        "doc8 = nlp(u\"Apple to build a HongKong factory for 3$ billions\")\n",
        "for ent in doc8.ents:\n",
        "  print(ent.text+ '.'+ent.label_+'.'+str(spacy.explain(ent.label_)))\n",
        "  len(doc8.ents)\n",
        "  print(doc8.ents)"
      ],
      "metadata": {
        "id": "Q-jpjSQBitTe"
      },
      "execution_count": null,
      "outputs": []
    },
    {
      "cell_type": "code",
      "source": [
        "\n",
        "\n",
        "\n",
        "\n",
        "\n",
        "\n",
        "\n",
        "\n",
        "\n",
        "\n",
        "#pie chart\n",
        "import matplotlib.pyplot  as plt\n",
        "import numpy as np\n",
        "firms = [\"firm A \",\"Firm B\", \"Firm C\"]\n",
        "market_share = [20,15,25]\n",
        "Explode = [0,0.1,0]\n",
        "plt.pie(market_share,explode=Explode, labels=firms , shadow =True, startangle = 45)\n",
        "plt.axis('equal')\n",
        "plt.legend(title = \"list of firms\")\n",
        "plt.show()"
      ],
      "metadata": {
        "id": "Z3V0PV-QisfZ"
      },
      "execution_count": null,
      "outputs": []
    },
    {
      "cell_type": "code",
      "source": [
        "\n",
        "\n",
        "\n",
        "\n",
        "\n",
        "\n",
        "\n",
        "\n",
        "\n",
        "#scatter\n",
        "import matplotlib.pyplot as plt\n",
        "age = [10, 20, 30, 40, 50]\n",
        "weight = [35, 45, 55, 65, 75]\n",
        "smoking_status = ['No', 'Yes', 'No', 'Yes', 'No']\n",
        "\n",
        "plt.figure(figsize=(8, 6))\n",
        "for i, status in enumerate(smoking_status):\n",
        "    if status == 'Yes':\n",
        "        plt.scatter(age[i], weight[i], color='red', label='Smoker')\n",
        "    else:\n",
        "        plt.scatter(age[i], weight[i], color='blue', label='Non-smoker')\n",
        "\n",
        "plt.title('Disadvantages of Smoking with Increasing Age and Weight')\n",
        "plt.xlabel('Age')\n",
        "plt.ylabel('Weight')\n",
        "plt.legend()\n",
        "plt.grid(True)\n",
        "plt.show()\n"
      ],
      "metadata": {
        "id": "QoTXFzXKjyzq"
      },
      "execution_count": null,
      "outputs": []
    },
    {
      "cell_type": "code",
      "source": [
        "\n",
        "\n",
        "\n",
        "\n",
        "\n",
        "\n",
        "\n",
        "#histogram\n",
        "import matplotlib.pyplot as plt\n",
        "import numpy as np\n",
        "\n",
        "heights = np.random.normal(loc=170, scale=10, size=250)  # Mean=170, Standard Deviation=10, Size=250\n",
        "\n",
        "plt.hist(heights, bins=20, color='skyblue', edgecolor='black')  # Using 20 bins for better visualization\n",
        "plt.title('Height Distribution of 250 People')\n",
        "plt.xlabel('Height (cm)')\n",
        "plt.ylabel('Frequency')\n",
        "plt.grid(True)\n",
        "plt.show()\n"
      ],
      "metadata": {
        "id": "TGrWzbR7lWHP"
      },
      "execution_count": null,
      "outputs": []
    },
    {
      "cell_type": "code",
      "source": [
        "\n",
        "\n",
        "\n",
        "\n",
        "\n",
        "\n",
        "#bar graph\n",
        "import matplotlib.pyplot as plt\n",
        "import numpy as np\n",
        "Divisions =  [\"div A \",\"div B\", \"div C\"]\n",
        "avg_marks=[2,4,7]\n",
        "plt.bar(Divisions,avg_marks,color='green')\n",
        "plt.title('bar graph')\n",
        "plt.xlabel('divisions')\n",
        "plt.ylabel('marks')\n",
        "plt.show()\n",
        "\n",
        "\n"
      ],
      "metadata": {
        "id": "zziJbY4PlvzR"
      },
      "execution_count": null,
      "outputs": []
    },
    {
      "cell_type": "code",
      "source": [
        "\n",
        "\n",
        "\n",
        "\n",
        "\n",
        "\n",
        "#stack bar graph\n",
        "import matplotlib.pyplot as plt\n",
        "import numpy as np\n",
        "Divisions =  [\"div A \",\"div B\", \"div C\"]\n",
        "boy_avg_marks=[2,4,7]\n",
        "girl_avg_marks=[8,9,10]\n",
        "index = np.arange(3)\n",
        "width=0.30\n",
        "plt.bar(index,boy_avg_marks,width,color='green',label='boy avg marks')\n",
        "plt.bar(index,girl_avg_marks,width,color='blue',label='girl avg marks',bottom=boy_avg_marks)\n",
        "plt.title('bar graph')\n",
        "plt.xlabel('divisions')\n",
        "plt.ylabel('marks')\n",
        "plt.show()\n"
      ],
      "metadata": {
        "colab": {
          "base_uri": "https://localhost:8080/",
          "height": 472
        },
        "id": "kETVncSXm7d-",
        "outputId": "633e8ba3-ec03-42fa-9bec-de568e955da4"
      },
      "execution_count": 12,
      "outputs": [
        {
          "output_type": "display_data",
          "data": {
            "text/plain": [
              "<Figure size 640x480 with 1 Axes>"
            ],
            "image/png": "[encoded data removed]"
          },
          "metadata": {}
        }
      ]
    }
  ]
}